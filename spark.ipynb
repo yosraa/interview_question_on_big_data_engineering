{
 "cells": [
  {
   "cell_type": "markdown",
   "id": "bec273a3",
   "metadata": {},
   "source": [
    "# Questions d'entretien Spark avec réponses"
   ]
  },
  {
   "cell_type": "markdown",
   "id": "58381d3e",
   "metadata": {},
   "source": [
    "### 1.Spark Architecture\n",
    "Spark s'exécute en mode maître/esclave, c'est à dire un master et un ou plusieurs workers.\n",
    "\n",
    "Concrètement, un worker va exécuter un traitement spark. C'est un noeud dans un cluster dans lequel un ou plusieurs exécuteurs vont exécuter les taches.\n",
    "- Un exécuteur traite une ou plusieurs taches\n",
    "- Le cluster manager gère les ressources du cluster\n",
    "- Le driver (qui est en quelque sorte master)s'exécute dans une JVM.\n",
    "Son rôle consiste à interprèter le code de l’application pour le transformer en une suite de tâches et à maintenir tous les états et tâches des Exécuteurs.\n"
   ]
  },
  {
   "cell_type": "markdown",
   "id": "87aea441",
   "metadata": {},
   "source": [
    "### 2.Expliquer la soumission Spark\n",
    "\n",
    "La commande spark-submit permettant d'exécuter ou de soumettre un programme d'application Spark au cluster en spécifiant les options et les configurations.\n",
    "Elle prend en charge ce qui suit :\n",
    "\n",
    "- Soumission d'une application Spark sur différents gestionnaires de clusters tels que YARN\n",
    "- Modes d'exécution \n",
    "\n",
    "On peut lancer un traitement Spark sous deux modes d'exécution:\n",
    "Mode client : le driver est crée dans la machine qui soumet l'application\n",
    "Mode cluster : le driver est crée à l'Intérieur du cluster\n",
    "\n",
    "Exemple du code:\n",
    "./bin/spark-submit \\\n",
    "--class org.apache.spark.examples.SparkPi \\ --master spark://207.184.161.138:7077 \\ --deploy-mode cluster \\\n",
    "--supervise \\\n",
    "--executor-memory 20G \\\n",
    "--total-executor-cores 100 \\ /path/to/examples.jar"
   ]
  },
  {
   "cell_type": "markdown",
   "id": "b8b5ec3b",
   "metadata": {},
   "source": [
    "### 3. La difference entre RDD, Dataframe et Dataset ?\n",
    "\n",
    "RDD est une collection d'éléments répartis entre les noeuds du cluster et pouvant etre exploités en parallèle.\n",
    "- Collection distribuée \n",
    "- Immuable\n",
    "- Tolérance aux pannes\n",
    "- Des évaluations paresseuses \n",
    "- Transformations fonctionnelles\n",
    "\n",
    "Dataframe est une collection distribuée de données organisées en colonnes nommées\n",
    "- Collection distribuée de Row Objects\n",
    "- Traitement de données \n",
    "- Optimisation à l'aide de l'optimiseur de catalyseur\n",
    "Dataset est une extension des dataframe qui fournit une interface de programmation orientée objet et à sécurité. Il s'agit d'une collection d'objets immuables, fortement typés, qui sont mis en correspondance avec un schéma relationnel.\n",
    "- Encodeurs\n",
    "- Fournit le meilleur des deu\n",
    "\n",
    "Limites :\n",
    "RDD\n",
    "    Pas de moteur d'optimisations intégré \n",
    "    Manipulation de données structurées\n",
    "DataFrame\n",
    "    Sécurité des types au moment de la compilation "
   ]
  },
  {
   "cell_type": "markdown",
   "id": "8dac3431",
   "metadata": {},
   "source": [
    "### 4.Quand utiliser les RDD ?"
   ]
  },
  {
   "cell_type": "code",
   "execution_count": null,
   "id": "f85d5ceb",
   "metadata": {},
   "outputs": [],
   "source": []
  },
  {
   "cell_type": "code",
   "execution_count": null,
   "id": "d097a76e",
   "metadata": {},
   "outputs": [],
   "source": []
  },
  {
   "cell_type": "code",
   "execution_count": null,
   "id": "fd2bf5d8",
   "metadata": {},
   "outputs": [],
   "source": []
  },
  {
   "cell_type": "code",
   "execution_count": null,
   "id": "097e416c",
   "metadata": {},
   "outputs": [],
   "source": []
  },
  {
   "cell_type": "code",
   "execution_count": null,
   "id": "bd44d588",
   "metadata": {},
   "outputs": [],
   "source": []
  },
  {
   "cell_type": "code",
   "execution_count": null,
   "id": "0881edde",
   "metadata": {},
   "outputs": [],
   "source": []
  },
  {
   "cell_type": "code",
   "execution_count": null,
   "id": "b235f161",
   "metadata": {},
   "outputs": [],
   "source": []
  },
  {
   "cell_type": "code",
   "execution_count": null,
   "id": "3800c5e6",
   "metadata": {},
   "outputs": [],
   "source": []
  },
  {
   "cell_type": "code",
   "execution_count": null,
   "id": "75246da4",
   "metadata": {},
   "outputs": [],
   "source": []
  },
  {
   "cell_type": "code",
   "execution_count": null,
   "id": "34e173b7",
   "metadata": {},
   "outputs": [],
   "source": []
  },
  {
   "cell_type": "code",
   "execution_count": null,
   "id": "79ddd35f",
   "metadata": {},
   "outputs": [],
   "source": []
  },
  {
   "cell_type": "code",
   "execution_count": null,
   "id": "c374a856",
   "metadata": {},
   "outputs": [],
   "source": []
  },
  {
   "cell_type": "code",
   "execution_count": null,
   "id": "bec7100d",
   "metadata": {},
   "outputs": [],
   "source": []
  },
  {
   "cell_type": "code",
   "execution_count": null,
   "id": "12b67390",
   "metadata": {},
   "outputs": [],
   "source": []
  }
 ],
 "metadata": {
  "kernelspec": {
   "display_name": "Python 3",
   "language": "python",
   "name": "python3"
  },
  "language_info": {
   "codemirror_mode": {
    "name": "ipython",
    "version": 3
   },
   "file_extension": ".py",
   "mimetype": "text/x-python",
   "name": "python",
   "nbconvert_exporter": "python",
   "pygments_lexer": "ipython3",
   "version": "3.8.11"
  }
 },
 "nbformat": 4,
 "nbformat_minor": 5
}
